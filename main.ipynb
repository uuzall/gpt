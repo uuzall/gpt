{
 "cells": [
  {
   "cell_type": "code",
   "execution_count": 1,
   "metadata": {},
   "outputs": [],
   "source": [
    "%load_ext autoreload \n",
    "%autoreload 2"
   ]
  },
  {
   "cell_type": "code",
   "execution_count": 2,
   "metadata": {},
   "outputs": [
    {
     "name": "stdout",
     "output_type": "stream",
     "text": [
      "NVIDIA GeForce RTX 3090\n"
     ]
    }
   ],
   "source": [
    "import torch\n",
    "import torch.nn as nn \n",
    "import torch.optim as optim \n",
    "import torch.nn.functional as F \n",
    "from torch.utils.data import DataLoader \n",
    "import numpy as np \n",
    "import matplotlib.pyplot as plt \n",
    "import data\n",
    "import gpt \n",
    "from tqdm import tqdm, trange\n",
    "import json \n",
    "\n",
    "device = 'cuda' if torch.cuda.is_available() else 'cpu' \n",
    "if device == 'cuda': \n",
    "  print(torch.cuda.get_device_name()) \n",
    "else: \n",
    "  print(device) \n",
    "\n",
    "with open('config.json', 'r') as file: \n",
    "  config = json.load(file)\n",
    "\n",
    "lr = config['lr']\n",
    "bs = config['batch_size']\n",
    "\n",
    "vocab_size, encode = data._init_data() "
   ]
  },
  {
   "cell_type": "code",
   "execution_count": 3,
   "metadata": {},
   "outputs": [
    {
     "name": "stdout",
     "output_type": "stream",
     "text": [
      "28.873817 M parameters.\n"
     ]
    }
   ],
   "source": [
    "model = gpt.gpt_model(vocab_size=vocab_size).to(device) \n",
    "print(sum(p.numel() for p in model.parameters())/1e6, 'M parameters.')"
   ]
  },
  {
   "cell_type": "code",
   "execution_count": 4,
   "metadata": {},
   "outputs": [
    {
     "name": "stderr",
     "output_type": "stream",
     "text": [
      "Iterations: 10000/10000: 100%|██████████| 10000/10000 [1:38:34<00:00,  1.69it/s, best_iter=5888, best_val_loss=0.958, loss=0.703, val_loss=1.01] \n"
     ]
    },
    {
     "data": {
      "image/png": "[encoded data removed]",
      "text/plain": [
       "<Figure size 640x480 with 1 Axes>"
      ]
     },
     "metadata": {},
     "output_type": "display_data"
    },
    {
     "data": {
      "text/plain": [
       "[<matplotlib.lines.Line2D at 0x2a3e253f220>]"
      ]
     },
     "execution_count": 4,
     "metadata": {},
     "output_type": "execute_result"
    },
    {
     "data": {
      "image/png": "[encoded data removed]",
      "text/plain": [
       "<Figure size 640x480 with 1 Axes>"
      ]
     },
     "metadata": {},
     "output_type": "display_data"
    }
   ],
   "source": [
    "optimizer = optim.AdamW(model.parameters(), lr=lr)\n",
    "\n",
    "losses, val_losses, val_loss, best_val_loss, best_val_iter = list(), list(), 0, 100, 0\n",
    "\n",
    "steps = 64 // bs \n",
    "\n",
    "max_iters = 10000\n",
    "for iter in (loop := trange(max_iters)): \n",
    "\tx, y = data.dataloader('train')\n",
    "\t\n",
    "\tlogits = model(x.to(device))\n",
    "\n",
    "\tB, T, C = logits.shape \n",
    "\tlogits = logits.view(B*T, C)\n",
    "\ttargets = y.view(B*T)\n",
    "\tloss = F.cross_entropy(logits, targets.to(device)) / steps\n",
    "\tlosses.append(loss.item()*steps)\n",
    "\tloss.backward()\n",
    "\tif iter % steps == 0: \n",
    "\t\toptimizer.step() \n",
    "\t\tmodel.zero_grad()\n",
    "\n",
    "\tif iter % 128 == 0: \n",
    "\t\tloss_dim = 100\n",
    "\t\tval_loss_tensor = torch.zeros((loss_dim))\n",
    "\t\tfor j in range(loss_dim): \n",
    "\t\t\tx, y = data.dataloader('val')\n",
    "\t\t\twith torch.no_grad(): \n",
    "\t\t\t\tlogits = model(x.to(device))\n",
    "\n",
    "\t\t\t\tB, T, C = logits.shape \n",
    "\t\t\t\tlogits = logits.view(B*T, C)\n",
    "\t\t\t\ttargets = y.view(B*T)\n",
    "\t\t\t\tval_loss = F.cross_entropy(logits, targets.to(device)) \n",
    "\t\t\tval_loss_tensor[j] = val_loss.item()\n",
    "\t\tval_losses.append(val_loss_tensor.mean().item())\n",
    "\t\tif val_losses[-1] < best_val_loss: \n",
    "\t\t\tbest_val_loss = val_losses[-1]\n",
    "\t\t\tbest_val_iter = iter\n",
    "\t\t\ttorch.save(model.state_dict(), f'models/best_performing.pth')\n",
    "\n",
    "\t# if iter % 512 == 0: \n",
    "\t# \ttorch.save(model.state_dict(), f'models/checkpoint_{iter}.pth')\n",
    "\t# \tx, y = data.dataloader('val')\n",
    "\t# \twith torch.no_grad(): \n",
    "\t# \t\tgenerated = data.decode(x[0][-50:].tolist())\n",
    "\t# \t\tgenerated += data.decode(model.generate(x[0].unsqueeze(0).to(device), 50)[0, -50:].tolist())\n",
    "\t# \twith open(f'generations/{iter}.txt', 'w', encoding='utf-8') as file: \n",
    "\t# \t\tfile.write(generated)\n",
    "\n",
    "\tloop.set_description(f'Iterations: {iter+1}/{max_iters}')\n",
    "\tloop.set_postfix(loss=loss.item()*steps, val_loss=val_losses[-1], best_val_loss=best_val_loss, best_iter=best_val_iter)\n",
    "\n",
    "plt.plot(losses)\n",
    "plt.show()\n",
    "plt.plot(val_losses) # 2.15, 6.09"
   ]
  },
  {
   "cell_type": "code",
   "execution_count": 6,
   "metadata": {},
   "outputs": [],
   "source": [
    "# val_idx = list() \n",
    "# for idx, i in enumerate(val_losses): \n",
    "#   val_idx.append((idx, i))"
   ]
  },
  {
   "cell_type": "code",
   "execution_count": 7,
   "metadata": {},
   "outputs": [],
   "source": [
    "# import pickle as pkl \n",
    "\n",
    "# with open('val_losses.pkl', 'wb') as file: \n",
    "#   pkl.dump(val_idx, file)"
   ]
  },
  {
   "cell_type": "code",
   "execution_count": 8,
   "metadata": {},
   "outputs": [
    {
     "ename": "NameError",
     "evalue": "name 'val_idx' is not defined",
     "output_type": "error",
     "traceback": [
      "\u001b[1;31m---------------------------------------------------------------------------\u001b[0m",
      "\u001b[1;31mNameError\u001b[0m                                 Traceback (most recent call last)",
      "Cell \u001b[1;32mIn[8], line 1\u001b[0m\n\u001b[1;32m----> 1\u001b[0m val_idx\n",
      "\u001b[1;31mNameError\u001b[0m: name 'val_idx' is not defined"
     ]
    }
   ],
   "source": [
    "val_idx"
   ]
  },
  {
   "cell_type": "code",
   "execution_count": null,
   "metadata": {},
   "outputs": [],
   "source": [
    "# x, y = data.dataloader('val')"
   ]
  },
  {
   "cell_type": "code",
   "execution_count": null,
   "metadata": {},
   "outputs": [
    {
     "name": "stdout",
     "output_type": "stream",
     "text": [
      " you were my best friend, this is my sister\n",
      "GENERATED\n",
      "! My sister! My best friend and my sister! I-I cannot believe this!!\n",
      "Chandler Bing: Look, we're not gonna throw it to New Year's with you.\n",
      "Phoebe Buffay: You guys knew about this.\n",
      "Chandler\n"
     ]
    }
   ],
   "source": [
    "# print(data.decode(x[0][-10:].tolist()))\n",
    "# print('GENERATED')\n",
    "# print(data.decode(model.generate(x[0].unsqueeze(0).to(device), 50)[0, -50:].tolist())) "
   ]
  }
 ],
 "metadata": {
  "kernelspec": {
   "display_name": "AI_310",
   "language": "python",
   "name": "python3"
  },
  "language_info": {
   "codemirror_mode": {
    "name": "ipython",
    "version": 3
   },
   "file_extension": ".py",
   "mimetype": "text/x-python",
   "name": "python",
   "nbconvert_exporter": "python",
   "pygments_lexer": "ipython3",
   "version": "3.10.10"
  },
  "orig_nbformat": 4
 },
 "nbformat": 4,
 "nbformat_minor": 2
}
